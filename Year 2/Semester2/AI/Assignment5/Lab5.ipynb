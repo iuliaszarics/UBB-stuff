{
 "cells": [
  {
   "cell_type": "markdown",
   "id": "b8210b19",
   "metadata": {},
   "source": [
    "## A.I. Assignment 5\n",
    "\n",
    "## Learning Goals\n",
    "\n",
    "By the end of this lab, you should be able to:\n",
    "* Get more familiar with tensors in pytorch \n",
    "* Create a simple multilayer perceptron model with pytorch\n",
    "* Visualise the parameters\n",
    "\n",
    "\n",
    "### Task\n",
    "\n",
    "Build a fully connected feed forward network that adds two bits. Determine the a propper achitecture for this network (what database you use for this problem? how many layers? how many neurons on each layer? what is the activation function? what is the loss function? etc)\n",
    "\n",
    "Create at least 3 such networks and compare their performance (how accurate they are?, how farst they are trained to get at 1 accuracy?)\n",
    "\n",
    "Display for the best one the weights for each layer.\n"
   ]
  },
  {
   "cell_type": "code",
   "execution_count": 3,
   "id": "e3614e5f",
   "metadata": {},
   "outputs": [],
   "source": [
    "import torch\n",
    "import torch.nn as nn\n",
    "from collections import OrderedDict\n"
   ]
  },
  {
   "cell_type": "code",
   "execution_count": 4,
   "id": "5ee7e7d7",
   "metadata": {},
   "outputs": [],
   "source": [
    "# your code here\n",
    "model1 = nn.Sequential(\n",
    "    nn.Linear(2, 6),\n",
    "    nn.ReLU(),\n",
    "    nn.Linear(6, 2),\n",
    "    nn.Sigmoid()  \n",
    ")\n",
    "\n",
    "\n",
    "model2 = nn.Sequential(\n",
    "    nn.Linear(2, 10),\n",
    "    nn.Tanh(),\n",
    "    nn.Linear(10, 6),\n",
    "    nn.ReLU(),\n",
    "    nn.Linear(6, 2),\n",
    "    nn.Sigmoid()\n",
    ")\n",
    "\n",
    "model3 = nn.Sequential(\n",
    "    nn.Linear(2, 12),\n",
    "    nn.Sigmoid(),\n",
    "    nn.Linear(12, 8),\n",
    "    nn.Sigmoid(),\n",
    "    nn.Linear(8, 2),\n",
    "    nn.Sigmoid()\n",
    ")"
   ]
  },
  {
   "cell_type": "code",
   "execution_count": 5,
   "id": "665ae958",
   "metadata": {},
   "outputs": [
    {
     "name": "stdout",
     "output_type": "stream",
     "text": [
      "Sequential(\n",
      "  (0): Linear(in_features=2, out_features=6, bias=True)\n",
      "  (1): ReLU()\n",
      "  (2): Linear(in_features=6, out_features=2, bias=True)\n",
      "  (3): Sigmoid()\n",
      ")\n",
      "Sequential(\n",
      "  (0): Linear(in_features=2, out_features=10, bias=True)\n",
      "  (1): Tanh()\n",
      "  (2): Linear(in_features=10, out_features=6, bias=True)\n",
      "  (3): ReLU()\n",
      "  (4): Linear(in_features=6, out_features=2, bias=True)\n",
      "  (5): Sigmoid()\n",
      ")\n",
      "Sequential(\n",
      "  (0): Linear(in_features=2, out_features=12, bias=True)\n",
      "  (1): Sigmoid()\n",
      "  (2): Linear(in_features=12, out_features=8, bias=True)\n",
      "  (3): Sigmoid()\n",
      "  (4): Linear(in_features=8, out_features=2, bias=True)\n",
      "  (5): Sigmoid()\n",
      ")\n"
     ]
    }
   ],
   "source": [
    "print(model1)\n",
    "print(model2)\n",
    "print(model3)"
   ]
  },
  {
   "cell_type": "code",
   "execution_count": 6,
   "id": "e26f0d3e",
   "metadata": {},
   "outputs": [
    {
     "name": "stdout",
     "output_type": "stream",
     "text": [
      "tensor([[0., 0.],\n",
      "        [0., 1.],\n",
      "        [1., 0.],\n",
      "        [1., 1.]])\n"
     ]
    }
   ],
   "source": [
    "# your code here\n",
    "data_in = torch.tensor([[0, 0], [0, 1], [1, 0], [1, 1]], dtype=torch.float32)\n",
    "print(data_in)"
   ]
  },
  {
   "cell_type": "code",
   "execution_count": 7,
   "id": "4fb16bbc",
   "metadata": {},
   "outputs": [
    {
     "name": "stdout",
     "output_type": "stream",
     "text": [
      "tensor([[0., 0.],\n",
      "        [0., 1.],\n",
      "        [0., 1.],\n",
      "        [1., 0.]])\n"
     ]
    }
   ],
   "source": [
    "# your code here\n",
    "data_target = torch.tensor([[0, 0], [0, 1], [0, 1], [1, 0]], dtype=torch.float32)\n",
    "print(data_target)"
   ]
  },
  {
   "cell_type": "code",
   "execution_count": 8,
   "id": "69d920ed",
   "metadata": {},
   "outputs": [],
   "source": [
    "# your code here\n",
    "criterion = nn.BCELoss()\n",
    "optimizer1 = torch.optim.SGD(model1.parameters(), lr=0.1)\n",
    "optimizer2 = torch.optim.SGD(model2.parameters(), lr=0.01)\n",
    "optimizer3 = torch.optim.SGD(model3.parameters(), lr=0.01)\n"
   ]
  },
  {
   "cell_type": "code",
   "execution_count": 9,
   "id": "cde91f6f",
   "metadata": {},
   "outputs": [
    {
     "name": "stdout",
     "output_type": "stream",
     "text": [
      "model1: final loss = 0.176783, accuracy = 0.88\n",
      "model2: final loss = 0.064596, accuracy = 1.00\n",
      "model3: final loss = 0.625916, accuracy = 0.62\n"
     ]
    }
   ],
   "source": [
    "# your code here\n",
    "# Train the model\n",
    "def train_model(model, optimizer, epochs=5000, lr=0.05):\n",
    "    loss_history = []  \n",
    "    for epoch in range(epochs):\n",
    "        optimizer.zero_grad()\n",
    "        output = model(data_in)\n",
    "        loss = criterion(output, data_target)\n",
    "        loss.backward()\n",
    "        optimizer.step()   \n",
    "        loss_history.append(loss.item())  \n",
    "    predictions = torch.round(model(data_in))\n",
    "    accuracy = (predictions == data_target).float().mean().item()\n",
    "    return loss.item(), accuracy, loss_history\n",
    "\n",
    "loss1, acc1, history1 = train_model(model1, optimizer1)\n",
    "loss2, acc2, history2 = train_model(model2, optimizer2)\n",
    "loss3, acc3, history3 = train_model(model3, optimizer3)\n",
    "results = [\n",
    "    (\"model1\", loss1, acc1),\n",
    "    (\"model2\", loss2, acc2),\n",
    "    (\"model3\", loss3, acc3),\n",
    "]\n",
    "for name, loss, acc in results:\n",
    "    print(f\"{name}: final loss = {loss:.6f}, accuracy = {acc:.2f}\")"
   ]
  },
  {
   "cell_type": "code",
   "execution_count": 10,
   "id": "dff3ec1a",
   "metadata": {},
   "outputs": [
    {
     "data": {
      "image/png": "[encoded data removed]",
      "text/plain": [
       "<Figure size 1000x600 with 1 Axes>"
      ]
     },
     "metadata": {},
     "output_type": "display_data"
    }
   ],
   "source": [
    "# your code here\n",
    "# visualize the resuts\n",
    "import matplotlib.pyplot as plt\n",
    "plt.figure(figsize=(10, 6))\n",
    "plt.plot(history1, label=\"model 1\")\n",
    "plt.plot(history2, label=\"model 2\")\n",
    "plt.plot(history3, label=\"model 3\")\n",
    "plt.xlabel(\"epochs\")\n",
    "plt.ylabel(\"loss\")\n",
    "plt.legend()\n",
    "plt.grid(True)\n",
    "plt.show()\n"
   ]
  },
  {
   "cell_type": "code",
   "execution_count": 11,
   "id": "c1a7518b",
   "metadata": {},
   "outputs": [
    {
     "name": "stdout",
     "output_type": "stream",
     "text": [
      "m1 weights:\n",
      "OrderedDict({'0.weight': tensor([[-0.3653, -0.5493],\n",
      "        [ 3.0607, -3.0577],\n",
      "        [ 3.2754,  1.2763],\n",
      "        [ 0.0478, -0.5539],\n",
      "        [-0.4124, -0.1873],\n",
      "        [ 0.1978, -0.3347]]), '0.bias': tensor([-7.9092e-04, -3.1952e-03, -1.2958e+00, -2.6520e-01, -3.2957e-01,\n",
      "        -5.9474e-01]), '2.weight': tensor([[ 0.2389, -2.7475,  3.2073,  0.3020, -0.3326,  0.2559],\n",
      "        [ 0.3323,  3.2835, -1.8721, -0.3224, -0.1405, -0.3505]]), '2.bias': tensor([-4.6142e+00, -8.7117e-04])})\n",
      "\n",
      "m2 weights:\n",
      "OrderedDict({'0.weight': tensor([[-0.4305, -0.7321],\n",
      "        [-0.9886, -0.7172],\n",
      "        [ 0.8803,  0.8258],\n",
      "        [ 0.2221, -0.3718],\n",
      "        [ 0.8459, -0.5585],\n",
      "        [ 0.6868, -0.4782],\n",
      "        [ 0.4203,  0.1825],\n",
      "        [ 0.9143,  0.8608],\n",
      "        [-0.5354, -1.2981],\n",
      "        [ 0.6231, -0.4933]]), '0.bias': tensor([-0.4747,  1.2597, -0.8176, -0.3818,  0.2831, -0.4121,  0.0456, -0.5132,\n",
      "         1.1320, -0.6642]), '2.weight': tensor([[ 0.3249,  0.7983, -0.9638,  0.0274,  0.0279, -0.0634, -0.3784, -1.2059,\n",
      "          1.0426, -0.4818],\n",
      "        [ 0.3493,  0.1658, -0.2594,  0.3473, -0.0600, -0.1895, -0.0564, -0.1862,\n",
      "          0.2046,  0.3018],\n",
      "        [-0.5113,  1.3603, -0.4892,  0.0241, -0.0701, -0.1089, -0.0236, -0.1258,\n",
      "          1.3173, -0.1349],\n",
      "        [ 0.1228,  0.4628,  0.0637, -0.2442, -0.6217, -0.4842, -0.2539,  0.1569,\n",
      "         -0.5036, -0.1988],\n",
      "        [-0.5217, -0.2899,  0.8856, -0.0679,  0.1348, -0.0690,  0.1507,  0.7315,\n",
      "         -0.5098, -0.0217],\n",
      "        [ 0.1075,  0.3084, -0.2537, -0.1992, -0.1449,  0.2455, -0.0261, -0.3169,\n",
      "          0.3225, -0.1551]]), '2.bias': tensor([ 0.1282, -0.1685,  1.3208, -0.0241,  0.3329, -0.0148]), '4.weight': tensor([[-0.2228,  0.3755, -2.1714,  0.0973,  1.1797, -0.2439],\n",
      "        [-2.1020,  0.2121,  0.9875,  1.0867, -0.6199, -0.3059]]), '4.bias': tensor([-0.1384, -0.1325])})\n",
      "\n",
      "m3 weights:\n",
      "OrderedDict({'0.weight': tensor([[-0.4973, -0.4902],\n",
      "        [-0.0950, -0.1804],\n",
      "        [-0.3606,  0.6657],\n",
      "        [ 0.2180, -0.4921],\n",
      "        [-0.5765, -0.6424],\n",
      "        [ 0.1343,  0.4748],\n",
      "        [-0.6590,  0.5842],\n",
      "        [ 0.2368,  0.1146],\n",
      "        [ 0.6505, -0.1177],\n",
      "        [-0.6270, -0.2740],\n",
      "        [-0.6257,  0.0288],\n",
      "        [ 0.6697,  0.6675]]), '0.bias': tensor([ 0.2472,  0.2698, -0.3468,  0.0564,  0.3877, -0.6088,  0.3482, -0.3545,\n",
      "        -0.5745, -0.6158,  0.1831, -0.5949]), '2.weight': tensor([[ 0.1693, -0.1205, -0.1185,  0.2617, -0.1823, -0.0125, -0.0256,  0.2027,\n",
      "          0.0792, -0.2481,  0.2816,  0.0447],\n",
      "        [-0.0743,  0.2394, -0.2939, -0.1284, -0.1768,  0.2411, -0.1515,  0.1039,\n",
      "          0.0093,  0.2702,  0.0905, -0.3140],\n",
      "        [ 0.2572, -0.2498, -0.2587,  0.2046, -0.1869,  0.0677,  0.2919, -0.0516,\n",
      "          0.0838,  0.2939,  0.2357, -0.0721],\n",
      "        [-0.0156,  0.1488,  0.0512,  0.1678,  0.2720, -0.1986,  0.2261,  0.1023,\n",
      "         -0.2768, -0.0695,  0.2478, -0.2021],\n",
      "        [-0.0218,  0.3114, -0.1053,  0.2991, -0.0618,  0.1686, -0.0924,  0.2390,\n",
      "          0.0236,  0.2956,  0.0205,  0.1683],\n",
      "        [ 0.0400, -0.1953, -0.2741,  0.0301,  0.2255, -0.0722, -0.2577, -0.2156,\n",
      "          0.2133, -0.1608, -0.0140,  0.1182],\n",
      "        [ 0.2758, -0.1907, -0.2245, -0.2334,  0.1701, -0.1321, -0.0482, -0.1559,\n",
      "          0.2512, -0.1512,  0.0730,  0.2116],\n",
      "        [-0.0830,  0.0166,  0.1697,  0.2932,  0.1034,  0.1463,  0.0403, -0.0151,\n",
      "          0.0545,  0.1156,  0.0707, -0.1987]]), '2.bias': tensor([-0.0834,  0.1191,  0.2267, -0.0441,  0.2734,  0.0238,  0.1122, -0.1295]), '4.weight': tensor([[-0.0090, -0.2715, -0.4050, -0.1534, -0.3037, -0.3600, -0.2953, -0.1779],\n",
      "        [-0.1581, -0.0142,  0.1658,  0.1433,  0.0079,  0.1472, -0.0274, -0.0292]]), '4.bias': tensor([-0.0228, -0.1315])})\n"
     ]
    }
   ],
   "source": [
    "# your code here\n",
    "# print model wights\n",
    "print(\"m1 weights:\")\n",
    "print(model1.state_dict())\n",
    "\n",
    "print(\"\\nm2 weights:\")\n",
    "print(model2.state_dict())\n",
    "\n",
    "print(\"\\nm3 weights:\")\n",
    "print(model3.state_dict())\n"
   ]
  },
  {
   "cell_type": "code",
   "execution_count": 12,
   "id": "4cdf09ba",
   "metadata": {},
   "outputs": [
    {
     "name": "stdout",
     "output_type": "stream",
     "text": [
      "best of the best model: model2 ; accuracy : 1.00\n",
      "OrderedDict({'0.weight': tensor([[-0.4973, -0.4902],\n",
      "        [-0.0950, -0.1804],\n",
      "        [-0.3606,  0.6657],\n",
      "        [ 0.2180, -0.4921],\n",
      "        [-0.5765, -0.6424],\n",
      "        [ 0.1343,  0.4748],\n",
      "        [-0.6590,  0.5842],\n",
      "        [ 0.2368,  0.1146],\n",
      "        [ 0.6505, -0.1177],\n",
      "        [-0.6270, -0.2740],\n",
      "        [-0.6257,  0.0288],\n",
      "        [ 0.6697,  0.6675]]), '0.bias': tensor([ 0.2472,  0.2698, -0.3468,  0.0564,  0.3877, -0.6088,  0.3482, -0.3545,\n",
      "        -0.5745, -0.6158,  0.1831, -0.5949]), '2.weight': tensor([[ 0.1693, -0.1205, -0.1185,  0.2617, -0.1823, -0.0125, -0.0256,  0.2027,\n",
      "          0.0792, -0.2481,  0.2816,  0.0447],\n",
      "        [-0.0743,  0.2394, -0.2939, -0.1284, -0.1768,  0.2411, -0.1515,  0.1039,\n",
      "          0.0093,  0.2702,  0.0905, -0.3140],\n",
      "        [ 0.2572, -0.2498, -0.2587,  0.2046, -0.1869,  0.0677,  0.2919, -0.0516,\n",
      "          0.0838,  0.2939,  0.2357, -0.0721],\n",
      "        [-0.0156,  0.1488,  0.0512,  0.1678,  0.2720, -0.1986,  0.2261,  0.1023,\n",
      "         -0.2768, -0.0695,  0.2478, -0.2021],\n",
      "        [-0.0218,  0.3114, -0.1053,  0.2991, -0.0618,  0.1686, -0.0924,  0.2390,\n",
      "          0.0236,  0.2956,  0.0205,  0.1683],\n",
      "        [ 0.0400, -0.1953, -0.2741,  0.0301,  0.2255, -0.0722, -0.2577, -0.2156,\n",
      "          0.2133, -0.1608, -0.0140,  0.1182],\n",
      "        [ 0.2758, -0.1907, -0.2245, -0.2334,  0.1701, -0.1321, -0.0482, -0.1559,\n",
      "          0.2512, -0.1512,  0.0730,  0.2116],\n",
      "        [-0.0830,  0.0166,  0.1697,  0.2932,  0.1034,  0.1463,  0.0403, -0.0151,\n",
      "          0.0545,  0.1156,  0.0707, -0.1987]]), '2.bias': tensor([-0.0834,  0.1191,  0.2267, -0.0441,  0.2734,  0.0238,  0.1122, -0.1295]), '4.weight': tensor([[-0.0090, -0.2715, -0.4050, -0.1534, -0.3037, -0.3600, -0.2953, -0.1779],\n",
      "        [-0.1581, -0.0142,  0.1658,  0.1433,  0.0079,  0.1472, -0.0274, -0.0292]]), '4.bias': tensor([-0.0228, -0.1315])})\n"
     ]
    }
   ],
   "source": [
    "#choosing the best model pt ca totul este ierarhizat in aceasta viata\n",
    "best_model = max(results, key=lambda x: x[2])\n",
    "print(f\"best of the best model: {best_model[0]} ; accuracy : {best_model[2]:.2f}\")\n",
    "\n",
    "if best_model[0] == \"model1\":\n",
    "    print(model1.state_dict())\n",
    "elif best_model[0] == \"model22\":\n",
    "    print(model2.state_dict())\n",
    "else:\n",
    "    print(model3.state_dict())"
   ]
  },
  {
   "cell_type": "code",
   "execution_count": null,
   "id": "d0bea66c",
   "metadata": {},
   "outputs": [],
   "source": []
  },
  {
   "cell_type": "code",
   "execution_count": null,
   "id": "e29c65a2",
   "metadata": {},
   "outputs": [],
   "source": []
  }
 ],
 "metadata": {
  "kernelspec": {
   "display_name": "base",
   "language": "python",
   "name": "python3"
  },
  "language_info": {
   "codemirror_mode": {
    "name": "ipython",
    "version": 3
   },
   "file_extension": ".py",
   "mimetype": "text/x-python",
   "name": "python",
   "nbconvert_exporter": "python",
   "pygments_lexer": "ipython3",
   "version": "3.12.7"
  }
 },
 "nbformat": 4,
 "nbformat_minor": 5
}
